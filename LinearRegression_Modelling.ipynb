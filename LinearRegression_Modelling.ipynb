{
  "nbformat": 4,
  "nbformat_minor": 0,
  "metadata": {
    "colab": {
      "name": "LinearRegression_Modelling.ipynb",
      "provenance": [],
      "collapsed_sections": []
    },
    "kernelspec": {
      "name": "python3",
      "display_name": "Python 3"
    },
    "language_info": {
      "name": "python"
    }
  },
  "cells": [
    {
      "cell_type": "code",
      "execution_count": 16,
      "metadata": {
        "id": "IDRRHPIFHLM_"
      },
      "outputs": [],
      "source": [
        "import pandas as pd\n",
        "import numpy as np\n",
        "import matplotlib.pyplot as plt\n",
        "import seaborn as sns\n",
        "from sklearn.model_selection import train_test_split\n",
        "from sklearn.linear_model import LinearRegression\n",
        "from sklearn.metrics import r2_score\n",
        "from sklearn.metrics import mean_squared_error\n",
        "import math"
      ]
    },
    {
      "cell_type": "code",
      "source": [
        "from google.colab import drive\n",
        "drive.mount('/content/drive')"
      ],
      "metadata": {
        "colab": {
          "base_uri": "https://localhost:8080/"
        },
        "id": "PB5Hf7CFHkl0",
        "outputId": "80c8f176-c1ca-4857-88f5-0b1d69661d22"
      },
      "execution_count": 17,
      "outputs": [
        {
          "output_type": "stream",
          "name": "stdout",
          "text": [
            "Drive already mounted at /content/drive; to attempt to forcibly remount, call drive.mount(\"/content/drive\", force_remount=True).\n"
          ]
        }
      ]
    },
    {
      "cell_type": "code",
      "source": [
        "df2= pd.read_csv(\"/content/drive/MyDrive/DAC_datasets/Medicalpremium.csv\")"
      ],
      "metadata": {
        "id": "qX_E3MN8HyHd"
      },
      "execution_count": 18,
      "outputs": []
    },
    {
      "cell_type": "code",
      "source": [
        "df2.columns"
      ],
      "metadata": {
        "colab": {
          "base_uri": "https://localhost:8080/"
        },
        "id": "EZ_86CozH6T4",
        "outputId": "6eee368e-d10c-4f4a-8578-6a02ba31c087"
      },
      "execution_count": 19,
      "outputs": [
        {
          "output_type": "execute_result",
          "data": {
            "text/plain": [
              "Index(['Age', 'Diabetes', 'BloodPressureProblems', 'AnyTransplants',\n",
              "       'AnyChronicDiseases', 'Height', 'Weight', 'KnownAllergies',\n",
              "       'HistoryOfCancerInFamily', 'NumberOfMajorSurgeries', 'PremiumPrice'],\n",
              "      dtype='object')"
            ]
          },
          "metadata": {},
          "execution_count": 19
        }
      ]
    },
    {
      "cell_type": "code",
      "source": [
        "data = pd.get_dummies(df2)"
      ],
      "metadata": {
        "id": "teaZrM85Qd6c"
      },
      "execution_count": 30,
      "outputs": []
    },
    {
      "cell_type": "code",
      "source": [
        "data.columns"
      ],
      "metadata": {
        "colab": {
          "base_uri": "https://localhost:8080/"
        },
        "id": "UbKrrrsvQk3a",
        "outputId": "1e07b476-90fa-49f1-8fb0-1bf0ae0b31e0"
      },
      "execution_count": 31,
      "outputs": [
        {
          "output_type": "execute_result",
          "data": {
            "text/plain": [
              "Index(['Age', 'Diabetes', 'BloodPressureProblems', 'AnyTransplants',\n",
              "       'AnyChronicDiseases', 'Height', 'Weight', 'KnownAllergies',\n",
              "       'HistoryOfCancerInFamily', 'NumberOfMajorSurgeries', 'PremiumPrice'],\n",
              "      dtype='object')"
            ]
          },
          "metadata": {},
          "execution_count": 31
        }
      ]
    },
    {
      "cell_type": "markdown",
      "source": [
        "SPLITTING DATASET"
      ],
      "metadata": {
        "id": "d-YMIiHXIDT1"
      }
    },
    {
      "cell_type": "code",
      "source": [
        "x = data.drop('PremiumPrice',axis=1)\n",
        "y = data['PremiumPrice']"
      ],
      "metadata": {
        "id": "l8cDDC3OIFgN"
      },
      "execution_count": 32,
      "outputs": []
    },
    {
      "cell_type": "code",
      "source": [
        "x.columns"
      ],
      "metadata": {
        "colab": {
          "base_uri": "https://localhost:8080/"
        },
        "id": "RikDPznTII6Z",
        "outputId": "4df483d2-ca74-4f27-eb70-0186760d23ea"
      },
      "execution_count": 33,
      "outputs": [
        {
          "output_type": "execute_result",
          "data": {
            "text/plain": [
              "Index(['Age', 'Diabetes', 'BloodPressureProblems', 'AnyTransplants',\n",
              "       'AnyChronicDiseases', 'Height', 'Weight', 'KnownAllergies',\n",
              "       'HistoryOfCancerInFamily', 'NumberOfMajorSurgeries'],\n",
              "      dtype='object')"
            ]
          },
          "metadata": {},
          "execution_count": 33
        }
      ]
    },
    {
      "cell_type": "code",
      "source": [
        "print(y)"
      ],
      "metadata": {
        "colab": {
          "base_uri": "https://localhost:8080/"
        },
        "id": "KABx8OnfIM_A",
        "outputId": "8cd89c03-de3b-4c29-e74d-175f61c389fc"
      },
      "execution_count": 34,
      "outputs": [
        {
          "output_type": "stream",
          "name": "stdout",
          "text": [
            "0      25000\n",
            "1      29000\n",
            "2      23000\n",
            "3      28000\n",
            "4      23000\n",
            "       ...  \n",
            "981    15000\n",
            "982    28000\n",
            "983    29000\n",
            "984    39000\n",
            "985    15000\n",
            "Name: PremiumPrice, Length: 986, dtype: int64\n"
          ]
        }
      ]
    },
    {
      "cell_type": "code",
      "source": [
        "X_train, X_test, Y_train, Y_test = train_test_split(x, y, test_size=0.45, random_state=1) "
      ],
      "metadata": {
        "id": "tA4y0GwEIPqI"
      },
      "execution_count": 55,
      "outputs": []
    },
    {
      "cell_type": "code",
      "source": [
        "lin = LinearRegression()"
      ],
      "metadata": {
        "id": "Oyd1FcZAITLZ"
      },
      "execution_count": 56,
      "outputs": []
    },
    {
      "cell_type": "code",
      "source": [
        "lin.fit(X_train, Y_train)"
      ],
      "metadata": {
        "colab": {
          "base_uri": "https://localhost:8080/"
        },
        "id": "KZAnx0stIWDB",
        "outputId": "d1104ee3-85a7-4efe-ab0c-02beb3a113e6"
      },
      "execution_count": 57,
      "outputs": [
        {
          "output_type": "execute_result",
          "data": {
            "text/plain": [
              "LinearRegression()"
            ]
          },
          "metadata": {},
          "execution_count": 57
        }
      ]
    },
    {
      "cell_type": "code",
      "source": [
        "#PREDICTING\n",
        "pred = lin.predict(X_test)"
      ],
      "metadata": {
        "id": "MxpDpRubIaAC"
      },
      "execution_count": 58,
      "outputs": []
    },
    {
      "cell_type": "code",
      "source": [
        "#ACCURACY\n",
        "r2_score(Y_test,pred)"
      ],
      "metadata": {
        "colab": {
          "base_uri": "https://localhost:8080/"
        },
        "id": "GSt3vuF5Icvw",
        "outputId": "f535f588-80e6-493e-a4d2-f064ab6b46c4"
      },
      "execution_count": 59,
      "outputs": [
        {
          "output_type": "execute_result",
          "data": {
            "text/plain": [
              "0.6481384580354411"
            ]
          },
          "metadata": {},
          "execution_count": 59
        }
      ]
    },
    {
      "cell_type": "markdown",
      "source": [
        "65% Accuracy"
      ],
      "metadata": {
        "id": "xUcRn0d6REDU"
      }
    },
    {
      "cell_type": "code",
      "source": [
        "math.sqrt(mean_squared_error(Y_test, pred))"
      ],
      "metadata": {
        "colab": {
          "base_uri": "https://localhost:8080/"
        },
        "id": "B653Oh0VQNoa",
        "outputId": "b5cba2dd-19cf-4731-ec30-47eb46bd7e8c"
      },
      "execution_count": 61,
      "outputs": [
        {
          "output_type": "execute_result",
          "data": {
            "text/plain": [
              "3729.959203476916"
            ]
          },
          "metadata": {},
          "execution_count": 61
        }
      ]
    }
  ]
}